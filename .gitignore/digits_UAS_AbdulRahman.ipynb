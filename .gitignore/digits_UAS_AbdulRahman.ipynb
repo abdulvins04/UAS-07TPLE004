{
 "cells": [
  {
   "cell_type": "code",
   "execution_count": 7,
   "metadata": {},
   "outputs": [],
   "source": [
    "import numpy as np\n",
    "import matplotlib.pyplot as plt\n",
    "%matplotlib inline \n",
    "import seaborn as sns"
   ]
  },
  {
   "cell_type": "code",
   "execution_count": 8,
   "metadata": {},
   "outputs": [],
   "source": [
    "from sklearn.datasets import load_digits\n",
    "from sklearn.model_selection import train_test_split\n",
    "from mpl_toolkits.mplot3d import Axes3D\n",
    "from sklearn.neural_network import MLPClassifier\n",
    "from sklearn.model_selection import train_test_split\n",
    "from sklearn.metrics import accuracy_score\n",
    "from sklearn.metrics import confusion_matrix\n",
    "from sklearn import datasets\n",
    "from mpl_toolkits.mplot3d import Axes3D\n",
    "from sklearn.decomposition import PCA"
   ]
  },
  {
   "cell_type": "code",
   "execution_count": 9,
   "metadata": {},
   "outputs": [],
   "source": [
    "digits = load_digits()\n",
    "iris = datasets.load_iris()"
   ]
  },
  {
   "cell_type": "code",
   "execution_count": 10,
   "metadata": {},
   "outputs": [
    {
     "data": {
      "text/plain": [
       "['sepal length (cm)',\n",
       " 'sepal width (cm)',\n",
       " 'petal length (cm)',\n",
       " 'petal width (cm)']"
      ]
     },
     "execution_count": 10,
     "metadata": {},
     "output_type": "execute_result"
    }
   ],
   "source": [
    "iris.feature_names"
   ]
  },
  {
   "cell_type": "code",
   "execution_count": 11,
   "metadata": {},
   "outputs": [
    {
     "data": {
      "text/plain": [
       "(1797, 64)"
      ]
     },
     "execution_count": 11,
     "metadata": {},
     "output_type": "execute_result"
    }
   ],
   "source": [
    "digits.data.shape"
   ]
  },
  {
   "cell_type": "code",
   "execution_count": 12,
   "metadata": {},
   "outputs": [
    {
     "data": {
      "text/plain": [
       "array([ 0.,  0.,  1.,  9., 15., 11.,  0.,  0.,  0.,  0., 11., 16.,  8.,\n",
       "       14.,  6.,  0.,  0.,  2., 16., 10.,  0.,  9.,  9.,  0.,  0.,  1.,\n",
       "       16.,  4.,  0.,  8.,  8.,  0.,  0.,  4., 16.,  4.,  0.,  8.,  8.,\n",
       "        0.,  0.,  1., 16.,  5.,  1., 11.,  3.,  0.,  0.,  0., 12., 12.,\n",
       "       10., 10.,  0.,  0.,  0.,  0.,  1., 10., 13.,  3.,  0.,  0.])"
      ]
     },
     "execution_count": 12,
     "metadata": {},
     "output_type": "execute_result"
    }
   ],
   "source": [
    "digits.data[10]"
   ]
  },
  {
   "cell_type": "code",
   "execution_count": 13,
   "metadata": {},
   "outputs": [
    {
     "data": {
      "text/plain": [
       "array([0, 1, 2, 3, 4, 5, 6, 7, 8, 9])"
      ]
     },
     "execution_count": 13,
     "metadata": {},
     "output_type": "execute_result"
    }
   ],
   "source": [
    "digits.target_names"
   ]
  },
  {
   "cell_type": "code",
   "execution_count": 9,
   "metadata": {},
   "outputs": [
    {
     "data": {
      "text/plain": [
       "(1797,)"
      ]
     },
     "execution_count": 9,
     "metadata": {},
     "output_type": "execute_result"
    }
   ],
   "source": [
    "digits.target.shape"
   ]
  },
  {
   "cell_type": "code",
   "execution_count": 40,
   "metadata": {},
   "outputs": [
    {
     "data": {
      "text/plain": [
       "0"
      ]
     },
     "execution_count": 40,
     "metadata": {},
     "output_type": "execute_result"
    }
   ],
   "source": [
    "digits.target[10]"
   ]
  },
  {
   "cell_type": "code",
   "execution_count": 14,
   "metadata": {},
   "outputs": [
    {
     "data": {
      "text/plain": [
       "<matplotlib.image.AxesImage at 0x13b0ec30>"
      ]
     },
     "execution_count": 14,
     "metadata": {},
     "output_type": "execute_result"
    },
    {
     "data": {
      "text/plain": [
       "<Figure size 432x288 with 0 Axes>"
      ]
     },
     "metadata": {},
     "output_type": "display_data"
    },
    {
     "data": {
      "image/png": "[encoded data removed]",
      "text/plain": [
       "<Figure size 288x288 with 1 Axes>"
      ]
     },
     "metadata": {
      "needs_background": "light"
     },
     "output_type": "display_data"
    }
   ],
   "source": [
    "import matplotlib.pyplot as plt \n",
    "plt.gray() \n",
    "plt.matshow(digits.images[10]) "
   ]
  },
  {
   "cell_type": "code",
   "execution_count": 19,
   "metadata": {},
   "outputs": [],
   "source": [
    "X = digits.data\n",
    "y = digits.target\n",
    "# Membagi data training dan testing(80:20)\n",
    "x_train, x_test, y_train, y_test = train_test_split(X,y, test_size= 0.4, random_state=1)"
   ]
  },
  {
   "cell_type": "code",
   "execution_count": 20,
   "metadata": {},
   "outputs": [
    {
     "data": {
      "text/plain": [
       "(1078, 64)"
      ]
     },
     "execution_count": 20,
     "metadata": {},
     "output_type": "execute_result"
    }
   ],
   "source": [
    "x_train.shape"
   ]
  },
  {
   "cell_type": "code",
   "execution_count": 21,
   "metadata": {},
   "outputs": [
    {
     "data": {
      "text/plain": [
       "(719, 64)"
      ]
     },
     "execution_count": 21,
     "metadata": {},
     "output_type": "execute_result"
    }
   ],
   "source": [
    "x_test.shape"
   ]
  },
  {
   "cell_type": "code",
   "execution_count": 22,
   "metadata": {},
   "outputs": [
    {
     "data": {
      "text/plain": [
       "(1078,)"
      ]
     },
     "execution_count": 22,
     "metadata": {},
     "output_type": "execute_result"
    }
   ],
   "source": [
    "y_train.shape"
   ]
  },
  {
   "cell_type": "code",
   "execution_count": 23,
   "metadata": {},
   "outputs": [
    {
     "data": {
      "text/plain": [
       "(719,)"
      ]
     },
     "execution_count": 23,
     "metadata": {},
     "output_type": "execute_result"
    }
   ],
   "source": [
    "y_test.shape"
   ]
  },
  {
   "cell_type": "code",
   "execution_count": 24,
   "metadata": {},
   "outputs": [],
   "source": [
    "clf = MLPClassifier(hidden_layer_sizes=(20,20,20),  max_iter=250, alpha=0.0001,activation='logistic',\n",
    "                     solver='adam', verbose=10,  random_state=21,tol=0.000000001)"
   ]
  },
  {
   "cell_type": "code",
   "execution_count": 25,
   "metadata": {},
   "outputs": [
    {
     "name": "stdout",
     "output_type": "stream",
     "text": [
      "Iteration 1, loss = 2.36734712\n",
      "Iteration 2, loss = 2.34817172\n",
      "Iteration 3, loss = 2.33271425\n",
      "Iteration 4, loss = 2.32050890\n",
      "Iteration 5, loss = 2.31091769\n",
      "Iteration 6, loss = 2.30406517\n",
      "Iteration 7, loss = 2.29836173\n",
      "Iteration 8, loss = 2.29344395\n",
      "Iteration 9, loss = 2.28980259\n",
      "Iteration 10, loss = 2.28627223\n",
      "Iteration 11, loss = 2.28263125\n",
      "Iteration 12, loss = 2.27876695\n",
      "Iteration 13, loss = 2.27498134\n",
      "Iteration 14, loss = 2.27064775\n",
      "Iteration 15, loss = 2.26576479\n",
      "Iteration 16, loss = 2.26036642\n",
      "Iteration 17, loss = 2.25430620\n",
      "Iteration 18, loss = 2.24754610\n",
      "Iteration 19, loss = 2.23979390\n",
      "Iteration 20, loss = 2.23100170\n",
      "Iteration 21, loss = 2.22132593\n",
      "Iteration 22, loss = 2.21032674\n",
      "Iteration 23, loss = 2.19838079\n",
      "Iteration 24, loss = 2.18464374\n",
      "Iteration 25, loss = 2.16941498\n",
      "Iteration 26, loss = 2.15348046\n",
      "Iteration 27, loss = 2.13547414\n",
      "Iteration 28, loss = 2.11577265\n",
      "Iteration 29, loss = 2.09502834\n",
      "Iteration 30, loss = 2.07329350\n",
      "Iteration 31, loss = 2.05035541\n",
      "Iteration 32, loss = 2.02699971\n",
      "Iteration 33, loss = 2.00318848\n",
      "Iteration 34, loss = 1.97891969\n",
      "Iteration 35, loss = 1.95499812\n",
      "Iteration 36, loss = 1.93096305\n",
      "Iteration 37, loss = 1.90739017\n",
      "Iteration 38, loss = 1.88393448\n",
      "Iteration 39, loss = 1.86142610\n",
      "Iteration 40, loss = 1.83907261\n",
      "Iteration 41, loss = 1.81747214\n",
      "Iteration 42, loss = 1.79764459\n",
      "Iteration 43, loss = 1.77709483\n",
      "Iteration 44, loss = 1.75708265\n",
      "Iteration 45, loss = 1.74017474\n",
      "Iteration 46, loss = 1.72084895\n",
      "Iteration 47, loss = 1.70378977\n",
      "Iteration 48, loss = 1.68622787\n",
      "Iteration 49, loss = 1.66882117\n",
      "Iteration 50, loss = 1.65212882\n",
      "Iteration 51, loss = 1.63550412\n",
      "Iteration 52, loss = 1.61818743\n",
      "Iteration 53, loss = 1.60208315\n",
      "Iteration 54, loss = 1.58485072\n",
      "Iteration 55, loss = 1.56861866\n",
      "Iteration 56, loss = 1.55132498\n",
      "Iteration 57, loss = 1.53499339\n",
      "Iteration 58, loss = 1.51834979\n",
      "Iteration 59, loss = 1.50096532\n",
      "Iteration 60, loss = 1.48481352\n",
      "Iteration 61, loss = 1.46913654\n",
      "Iteration 62, loss = 1.45199801\n",
      "Iteration 63, loss = 1.43507232\n",
      "Iteration 64, loss = 1.41923035\n",
      "Iteration 65, loss = 1.40349466\n",
      "Iteration 66, loss = 1.38784639\n",
      "Iteration 67, loss = 1.37288427\n",
      "Iteration 68, loss = 1.35732686\n",
      "Iteration 69, loss = 1.34373374\n",
      "Iteration 70, loss = 1.32852261\n",
      "Iteration 71, loss = 1.31507641\n",
      "Iteration 72, loss = 1.30132733\n",
      "Iteration 73, loss = 1.28788633\n",
      "Iteration 74, loss = 1.27450751\n",
      "Iteration 75, loss = 1.26202316\n",
      "Iteration 76, loss = 1.25014068\n",
      "Iteration 77, loss = 1.23813579\n",
      "Iteration 78, loss = 1.22638735\n",
      "Iteration 79, loss = 1.21420797\n",
      "Iteration 80, loss = 1.20268819\n",
      "Iteration 81, loss = 1.19184658\n",
      "Iteration 82, loss = 1.18136723\n",
      "Iteration 83, loss = 1.16944204\n",
      "Iteration 84, loss = 1.15826283\n",
      "Iteration 85, loss = 1.14766899\n",
      "Iteration 86, loss = 1.13677378\n",
      "Iteration 87, loss = 1.12601891\n",
      "Iteration 88, loss = 1.11594658\n",
      "Iteration 89, loss = 1.10597157\n",
      "Iteration 90, loss = 1.09673901\n",
      "Iteration 91, loss = 1.08659875\n",
      "Iteration 92, loss = 1.07733869\n",
      "Iteration 93, loss = 1.06820385\n",
      "Iteration 94, loss = 1.05911235\n",
      "Iteration 95, loss = 1.05001466\n",
      "Iteration 96, loss = 1.04095850\n",
      "Iteration 97, loss = 1.03243896\n",
      "Iteration 98, loss = 1.02371691\n",
      "Iteration 99, loss = 1.01491994\n",
      "Iteration 100, loss = 1.00641962\n",
      "Iteration 101, loss = 0.99753641\n",
      "Iteration 102, loss = 0.98937448\n",
      "Iteration 103, loss = 0.98082259\n",
      "Iteration 104, loss = 0.97234001\n",
      "Iteration 105, loss = 0.96452374\n",
      "Iteration 106, loss = 0.95619655\n",
      "Iteration 107, loss = 0.94749471\n",
      "Iteration 108, loss = 0.93946981\n",
      "Iteration 109, loss = 0.93171869\n",
      "Iteration 110, loss = 0.92352460\n",
      "Iteration 111, loss = 0.91568614\n",
      "Iteration 112, loss = 0.90781969\n",
      "Iteration 113, loss = 0.90045647\n",
      "Iteration 114, loss = 0.89265188\n",
      "Iteration 115, loss = 0.88534228\n",
      "Iteration 116, loss = 0.87764479\n",
      "Iteration 117, loss = 0.86973801\n",
      "Iteration 118, loss = 0.86265081\n",
      "Iteration 119, loss = 0.85541627\n",
      "Iteration 120, loss = 0.84780316\n",
      "Iteration 121, loss = 0.84079732\n",
      "Iteration 122, loss = 0.83369450\n",
      "Iteration 123, loss = 0.82653739\n",
      "Iteration 124, loss = 0.81955655\n",
      "Iteration 125, loss = 0.81255512\n",
      "Iteration 126, loss = 0.80592202\n",
      "Iteration 127, loss = 0.79982742\n",
      "Iteration 128, loss = 0.79288619\n",
      "Iteration 129, loss = 0.78615932\n",
      "Iteration 130, loss = 0.77947845\n",
      "Iteration 131, loss = 0.77341180\n",
      "Iteration 132, loss = 0.76703008\n",
      "Iteration 133, loss = 0.76040541\n",
      "Iteration 134, loss = 0.75435339\n",
      "Iteration 135, loss = 0.74853416\n",
      "Iteration 136, loss = 0.74168078\n",
      "Iteration 137, loss = 0.73612334\n",
      "Iteration 138, loss = 0.73041563\n",
      "Iteration 139, loss = 0.72421019\n",
      "Iteration 140, loss = 0.71827922\n",
      "Iteration 141, loss = 0.71248624\n",
      "Iteration 142, loss = 0.70676180\n",
      "Iteration 143, loss = 0.70107109\n",
      "Iteration 144, loss = 0.69519668\n",
      "Iteration 145, loss = 0.68962563\n",
      "Iteration 146, loss = 0.68441358\n",
      "Iteration 147, loss = 0.67900416\n",
      "Iteration 148, loss = 0.67331430\n",
      "Iteration 149, loss = 0.66813341\n",
      "Iteration 150, loss = 0.66302262\n",
      "Iteration 151, loss = 0.65750735\n",
      "Iteration 152, loss = 0.65225149\n",
      "Iteration 153, loss = 0.64750873\n",
      "Iteration 154, loss = 0.64192460\n",
      "Iteration 155, loss = 0.63718734\n",
      "Iteration 156, loss = 0.63226594\n",
      "Iteration 157, loss = 0.62746514\n",
      "Iteration 158, loss = 0.62255851\n",
      "Iteration 159, loss = 0.61780144\n",
      "Iteration 160, loss = 0.61352194\n",
      "Iteration 161, loss = 0.60845183\n",
      "Iteration 162, loss = 0.60431094\n",
      "Iteration 163, loss = 0.59940481\n",
      "Iteration 164, loss = 0.59469051\n",
      "Iteration 165, loss = 0.59025338\n",
      "Iteration 166, loss = 0.58631529\n",
      "Iteration 167, loss = 0.58136250\n",
      "Iteration 168, loss = 0.57690825\n",
      "Iteration 169, loss = 0.57259851\n",
      "Iteration 170, loss = 0.56861541\n",
      "Iteration 171, loss = 0.56394426\n",
      "Iteration 172, loss = 0.55980897\n",
      "Iteration 173, loss = 0.55584012\n",
      "Iteration 174, loss = 0.55158150\n",
      "Iteration 175, loss = 0.54718134\n",
      "Iteration 176, loss = 0.54354159\n",
      "Iteration 177, loss = 0.53918404\n",
      "Iteration 178, loss = 0.53542071\n",
      "Iteration 179, loss = 0.53135764\n",
      "Iteration 180, loss = 0.52770663\n",
      "Iteration 181, loss = 0.52363072\n",
      "Iteration 182, loss = 0.51969984\n",
      "Iteration 183, loss = 0.51568783\n",
      "Iteration 184, loss = 0.51173440\n",
      "Iteration 185, loss = 0.50799487\n",
      "Iteration 186, loss = 0.50397132\n",
      "Iteration 187, loss = 0.50034925\n",
      "Iteration 188, loss = 0.49633166\n",
      "Iteration 189, loss = 0.49245908\n",
      "Iteration 190, loss = 0.48883655\n",
      "Iteration 191, loss = 0.48488619\n",
      "Iteration 192, loss = 0.48084663\n",
      "Iteration 193, loss = 0.47706075\n",
      "Iteration 194, loss = 0.47290694\n",
      "Iteration 195, loss = 0.46894005\n",
      "Iteration 196, loss = 0.46499053\n",
      "Iteration 197, loss = 0.46067255\n",
      "Iteration 198, loss = 0.45653702\n",
      "Iteration 199, loss = 0.45251020\n",
      "Iteration 200, loss = 0.44817936\n",
      "Iteration 201, loss = 0.44382334\n",
      "Iteration 202, loss = 0.43950179\n",
      "Iteration 203, loss = 0.43482287\n",
      "Iteration 204, loss = 0.43054633\n",
      "Iteration 205, loss = 0.42622685\n",
      "Iteration 206, loss = 0.42118999\n",
      "Iteration 207, loss = 0.41681970\n",
      "Iteration 208, loss = 0.41196636\n",
      "Iteration 209, loss = 0.40735206\n",
      "Iteration 210, loss = 0.40317218\n",
      "Iteration 211, loss = 0.39779262\n",
      "Iteration 212, loss = 0.39271876\n",
      "Iteration 213, loss = 0.38829396\n",
      "Iteration 214, loss = 0.38306914\n",
      "Iteration 215, loss = 0.37797086\n",
      "Iteration 216, loss = 0.37294365\n",
      "Iteration 217, loss = 0.36838312\n",
      "Iteration 218, loss = 0.36366202\n",
      "Iteration 219, loss = 0.35879714\n",
      "Iteration 220, loss = 0.35429422\n",
      "Iteration 221, loss = 0.34962097\n",
      "Iteration 222, loss = 0.34579051\n",
      "Iteration 223, loss = 0.34089824\n",
      "Iteration 224, loss = 0.33653801\n",
      "Iteration 225, loss = 0.33240085\n",
      "Iteration 226, loss = 0.32832740\n",
      "Iteration 227, loss = 0.32454160\n",
      "Iteration 228, loss = 0.32060355\n",
      "Iteration 229, loss = 0.31650436\n",
      "Iteration 230, loss = 0.31297660\n",
      "Iteration 231, loss = 0.30924760\n",
      "Iteration 232, loss = 0.30546965\n",
      "Iteration 233, loss = 0.30226395\n",
      "Iteration 234, loss = 0.29889334\n",
      "Iteration 235, loss = 0.29520362\n",
      "Iteration 236, loss = 0.29166868\n",
      "Iteration 237, loss = 0.28842900\n",
      "Iteration 238, loss = 0.28511433\n",
      "Iteration 239, loss = 0.28210240\n",
      "Iteration 240, loss = 0.27838691\n",
      "Iteration 241, loss = 0.27538281\n",
      "Iteration 242, loss = 0.27243601\n",
      "Iteration 243, loss = 0.26939424\n",
      "Iteration 244, loss = 0.26625555\n",
      "Iteration 245, loss = 0.26273998\n",
      "Iteration 246, loss = 0.26025299\n",
      "Iteration 247, loss = 0.25729051\n",
      "Iteration 248, loss = 0.25442468\n",
      "Iteration 249, loss = 0.25118925\n",
      "Iteration 250, loss = 0.24868404\n"
     ]
    },
    {
     "name": "stderr",
     "output_type": "stream",
     "text": [
      "c:\\users\\dapodik\\appdata\\local\\programs\\python\\python37-32\\lib\\site-packages\\sklearn\\neural_network\\multilayer_perceptron.py:562: ConvergenceWarning: Stochastic Optimizer: Maximum iterations (250) reached and the optimization hasn't converged yet.\n",
      "  % self.max_iter, ConvergenceWarning)\n"
     ]
    }
   ],
   "source": [
    "clf.fit(x_train, y_train)\n",
    "y_pred = clf.predict(x_test)"
   ]
  },
  {
   "cell_type": "code",
   "execution_count": 26,
   "metadata": {},
   "outputs": [],
   "source": [
    "loss_values = clf.loss_curve_"
   ]
  },
  {
   "cell_type": "code",
   "execution_count": 27,
   "metadata": {
    "scrolled": false
   },
   "outputs": [
    {
     "data": {
      "text/plain": [
       "[<matplotlib.lines.Line2D at 0x13c25370>]"
      ]
     },
     "execution_count": 27,
     "metadata": {},
     "output_type": "execute_result"
    },
    {
     "data": {
      "image/png": "[encoded data removed]",
      "text/plain": [
       "<Figure size 432x288 with 1 Axes>"
      ]
     },
     "metadata": {
      "needs_background": "light"
     },
     "output_type": "display_data"
    }
   ],
   "source": [
    "plt.plot(loss_values)"
   ]
  },
  {
   "cell_type": "code",
   "execution_count": null,
   "metadata": {},
   "outputs": [],
   "source": []
  }
 ],
 "metadata": {
  "kernelspec": {
   "display_name": "Python 3",
   "language": "python",
   "name": "python3"
  },
  "language_info": {
   "codemirror_mode": {
    "name": "ipython",
    "version": 3
   },
   "file_extension": ".py",
   "mimetype": "text/x-python",
   "name": "python",
   "nbconvert_exporter": "python",
   "pygments_lexer": "ipython3",
   "version": "3.7.0"
  }
 },
 "nbformat": 4,
 "nbformat_minor": 2
}
